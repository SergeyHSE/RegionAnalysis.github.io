{
  "nbformat": 4,
  "nbformat_minor": 0,
  "metadata": {
    "colab": {
      "provenance": [],
      "authorship_tag": "ABX9TyN89Br4F3GMbN3KhihhgQqJ",
      "include_colab_link": true
    },
    "kernelspec": {
      "name": "python3",
      "display_name": "Python 3"
    },
    "language_info": {
      "name": "python"
    }
  },
  "cells": [
    {
      "cell_type": "markdown",
      "metadata": {
        "id": "view-in-github",
        "colab_type": "text"
      },
      "source": [
        "<a href=\"https://colab.research.google.com/github/SergeyHSE/RegionAnalysis.github.io/blob/main/RegionAnalysis.ipynb\" target=\"_parent\"><img src=\"https://colab.research.google.com/assets/colab-badge.svg\" alt=\"Open In Colab\"/></a>"
      ]
    },
    {
      "cell_type": "code",
      "execution_count": 1,
      "metadata": {
        "id": "7N-wLBX26DFf"
      },
      "outputs": [],
      "source": [
        "import warnings\n",
        "warnings.filterwarnings('ignore')"
      ]
    },
    {
      "cell_type": "code",
      "source": [
        "# !!!!For jupyter, not for colab!!!!\n",
        "\n",
        "import pandas as pd\n",
        "import pyodbc as sqlMS\n",
        "\n",
        "connStr = (r\"DRIVER={Microsoft Access Driver (*.mdb, *.accdb)};\" r\"DBQ=C:\\Users\\User\\Documents\\книги\\ВШЭ\\учёба\\Статистика\\Анализ региона\\БелгородСтаврополь.accdb;\")\n",
        "conn = sqlMS.connect(connStr)\n",
        "cursor = conn.cursor()\n",
        "strSQL = '''\n",
        "SELECT БелгородскаяОбл.* FROM БелгородскаяОбл\n",
        "'''\n",
        "df = pd.read_sql(strSQL, conn)\n",
        "\n",
        "cursor.close()\n",
        "del cursor\n",
        "conn.close()"
      ],
      "metadata": {
        "id": "BgYFe4Ik7sQJ"
      },
      "execution_count": null,
      "outputs": []
    },
    {
      "cell_type": "code",
      "source": [
        "df.to_csv('Regions.csv')"
      ],
      "metadata": {
        "id": "AHX1oJof7z77"
      },
      "execution_count": null,
      "outputs": []
    }
  ]
}